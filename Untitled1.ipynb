{
 "cells": [
  {
   "cell_type": "code",
   "execution_count": 1,
   "id": "ea825135",
   "metadata": {},
   "outputs": [
    {
     "name": "stdout",
     "output_type": "stream",
     "text": [
      "Requirement already satisfied: qrcode in c:\\users\\jose martins\\lib\\site-packages (7.4.2)\n",
      "Requirement already satisfied: typing-extensions in c:\\users\\jose martins\\lib\\site-packages (from qrcode) (4.3.0)\n",
      "Requirement already satisfied: pypng in c:\\users\\jose martins\\lib\\site-packages (from qrcode) (0.20220715.0)\n",
      "Requirement already satisfied: colorama in c:\\users\\jose martins\\lib\\site-packages (from qrcode) (0.4.5)\n",
      "Note: you may need to restart the kernel to use updated packages.\n"
     ]
    }
   ],
   "source": [
    "pip install qrcode"
   ]
  },
  {
   "cell_type": "code",
   "execution_count": 3,
   "id": "bb3fa712",
   "metadata": {},
   "outputs": [],
   "source": [
    "import qrcode"
   ]
  },
  {
   "cell_type": "code",
   "execution_count": 4,
   "id": "09f6ac1a",
   "metadata": {},
   "outputs": [],
   "source": [
    "import qrcode\n",
    "import os\n",
    "\n",
    "# cria a pasta 'qrcodeimage' no diretório atual\n",
    "if not os.path.exists('qrcodeimage'):\n",
    "    os.mkdir('qrcodeimage')\n",
    "\n",
    "# gera 25 QR codes com o padrão \"sala+i\"\n",
    "for i in range(1, 26):\n",
    "    # Define a mensagem a ser codificada em QR code\n",
    "    message = f'sala {i}'\n",
    "\n",
    "    # Gera o QR code usando a biblioteca qrcode\n",
    "    qr = qrcode.QRCode(version=1, box_size=20, border=5)\n",
    "    qr.add_data(message)\n",
    "    qr.make(fit=True)\n",
    "    img = qr.make_image(fill_color='black', back_color='white')\n",
    "\n",
    "    # Salva o QR code gerado na pasta 'qrcodeimage' com o nome 'sala+i.png'\n",
    "    img.save(f'qrcodeimage/sala{i}.png')\n"
   ]
  },
  {
   "cell_type": "code",
   "execution_count": 4,
   "id": "8cb6a8be",
   "metadata": {},
   "outputs": [],
   "source": [
    "img.show()"
   ]
  },
  {
   "cell_type": "code",
   "execution_count": null,
   "id": "076ff696",
   "metadata": {},
   "outputs": [],
   "source": []
  }
 ],
 "metadata": {
  "kernelspec": {
   "display_name": "Python 3 (ipykernel)",
   "language": "python",
   "name": "python3"
  },
  "language_info": {
   "codemirror_mode": {
    "name": "ipython",
    "version": 3
   },
   "file_extension": ".py",
   "mimetype": "text/x-python",
   "name": "python",
   "nbconvert_exporter": "python",
   "pygments_lexer": "ipython3",
   "version": "3.10.7"
  }
 },
 "nbformat": 4,
 "nbformat_minor": 5
}
